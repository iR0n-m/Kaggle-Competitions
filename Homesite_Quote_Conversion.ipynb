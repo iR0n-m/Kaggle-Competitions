{
  "nbformat": 4,
  "nbformat_minor": 0,
  "metadata": {
    "colab": {
      "name": "Homesite_Quote_Conversion",
      "provenance": [],
      "collapsed_sections": []
    },
    "kernelspec": {
      "name": "python3",
      "display_name": "Python 3"
    }
  },
  "cells": [
    {
      "cell_type": "code",
      "metadata": {
        "id": "w6cMfnrKlw8e",
        "colab_type": "code",
        "colab": {}
      },
      "source": [
        "from google.colab import drive\n",
        "drive.mount('/gdrive')\n",
        "#Change current working directory to gdrive\n",
        "%cd /gdrive\n",
        "!pip install vecstack"
      ],
      "execution_count": null,
      "outputs": []
    },
    {
      "cell_type": "code",
      "metadata": {
        "id": "RBVjjosXlxtW",
        "colab_type": "code",
        "colab": {}
      },
      "source": [
        "from vecstack import stacking\n",
        "import pandas as pd\n",
        "import numpy as np\n",
        "from sklearn.metrics import accuracy_score #works\n",
        "from sklearn.model_selection import train_test_split\n",
        "from sklearn.ensemble import RandomForestClassifier\n",
        "from sklearn.tree import DecisionTreeClassifier\n",
        "from sklearn.model_selection import GridSearchCV\n",
        "from sklearn.model_selection import RandomizedSearchCV\n",
        "from sklearn.model_selection import cross_val_score\n",
        "from sklearn.metrics import classification_report, confusion_matrix\n",
        "from sklearn.ensemble import GradientBoostingClassifier\n",
        "from sklearn.neural_network import MLPClassifier\n",
        "from imblearn.over_sampling import SMOTE \n",
        "from sklearn.svm import SVC\n",
        "from collections import Counter #for Smote, "
      ],
      "execution_count": null,
      "outputs": []
    },
    {
      "cell_type": "code",
      "metadata": {
        "id": "iB6P0xjPl4-E",
        "colab_type": "code",
        "colab": {}
      },
      "source": [
        "import warnings\n",
        "warnings.filterwarnings(\"ignore\")\n",
        "trainfile = r'/gdrive/My Drive/CIS508/NewTrain.csv'\n",
        "train_data = pd.read_csv(trainfile)\n",
        "\n",
        "testfile = r'/gdrive/My Drive/CIS508/NewTest.csv'\n",
        "test_data = pd.read_csv(testfile)\n",
        "\n",
        "print(train_data.shape)\n",
        "print(train_data.head()) \n",
        "\n",
        "print(test_data.shape)\n",
        "print(test_data.head()) "
      ],
      "execution_count": null,
      "outputs": []
    },
    {
      "cell_type": "code",
      "metadata": {
        "id": "KN0SXvx4l_-j",
        "colab_type": "code",
        "colab": {}
      },
      "source": [
        "X_train = train_data.drop([\"QuoteConversion_Flag\"],axis=1)\n",
        "X_test = test_data\n",
        "print(X_train)\n",
        "print(X_test)\n",
        "combined_Data = pd.concat([train_data, test_data], keys=[0,1])"
      ],
      "execution_count": null,
      "outputs": []
    },
    {
      "cell_type": "code",
      "metadata": {
        "id": "6Hehv-AwmDGc",
        "colab_type": "code",
        "colab": {}
      },
      "source": [
        "percent=200000\n",
        "print(percent)\n",
        "td=combined_Data.dropna(thresh=percent,axis=1)\n",
        "print(td.shape)\n",
        "\n",
        "numeric=td.select_dtypes(include=['int','float64']).columns\n",
        "for num in numeric:\n",
        "  td[num]=td[num].fillna(td[num].mean())\n",
        "\n",
        "train_cat_cols = td.select_dtypes(exclude=['int','float64']).columns\n",
        "for colss in train_cat_cols:\n",
        "  if(td.iloc[0][colss]==\"N\"):\n",
        "        td[colss]=td[colss].fillna(\"N\")\n",
        "  else:\n",
        "    td[colss]=td[colss].fillna(td[colss].mode())\n"
      ],
      "execution_count": null,
      "outputs": []
    },
    {
      "cell_type": "code",
      "metadata": {
        "id": "esHrTceUmGrF",
        "colab_type": "code",
        "colab": {}
      },
      "source": [
        "print(td.head())\n",
        "pd.options.display.max_columns = None\n",
        "pd.options.display.max_rows = None\n",
        "print (td.isnull().sum())\n",
        "pd.options.display.max_columns = 5\n",
        "pd.options.display.max_rows = 5\n",
        "trainData = td.xs(0)\n",
        "testData = td.xs(1)\n",
        "print(trainData.shape)\n",
        "print(testData.shape)\n",
        "train_cat_cols = trainData.select_dtypes(exclude=['float','int']).columns \n",
        "print(train_cat_cols.shape)\n",
        "print(train_cat_cols)\n",
        "X_train = trainData\n",
        "X_test = testData\n",
        "y_train=train_data[\"QuoteConversion_Flag\"]\n",
        "print(X_train.head())\n",
        "print(X_test.head()) \n",
        "print(y_train.head())\n",
        "QuoteNumber = test_data.iloc[:,252]\n",
        "print(QuoteNumber.head)"
      ],
      "execution_count": null,
      "outputs": []
    },
    {
      "cell_type": "code",
      "metadata": {
        "id": "LKtBbKUmmbVK",
        "colab_type": "code",
        "colab": {}
      },
      "source": [
        "# Normal Decision Tree\n",
        "\n",
        "clf = DecisionTreeClassifier()\n",
        "clf.fit(X_train, y_train)\n",
        "pred=pd.DataFrame(clf.predict(X_test),columns=[\"QuoteConversion_Flag\"])\n",
        "\n",
        "pred = pd.concat([QuoteNumber, pred],axis=(1))\n",
        "pred.head()\n",
        "pred.to_csv('/gdrive/My Drive/CIS508/DecisionTreeOriginal.csv',index= None)\n",
        "#Decision Tree Hypertuning\n",
        "parameters={'min_samples_split' : range(10,100,10),'max_depth': range(1,10,2),\"min_samples_leaf\":range(10,100,10)}\n",
        "clf_random = RandomizedSearchCV(clf,parameters,n_iter=5)\n",
        "clf_random.fit(X_train, y_train)\n",
        "grid_parm=clf_random.best_params_\n",
        "print(grid_parm)\n",
        "clf1 = DecisionTreeClassifier(**grid_parm)\n",
        "clf1.fit(X_train,y_train)\n",
        "clf1_predict = clf1.predict(X_test)\n",
        "\n",
        "pred2=pd.DataFrame(clf1.predict(X_test),columns=[\"QuoteConversion_Flag\"])\n",
        "print(pred2.head())\n",
        "pred2 = pd.concat([QuoteNumber, pred2],axis=(1))\n",
        "pred2.head()\n",
        "pred2.to_csv('/gdrive/My Drive/CIS508/DecisionTreeHypertuned.csv',index= None)"
      ],
      "execution_count": null,
      "outputs": []
    },
    {
      "cell_type": "code",
      "metadata": {
        "id": "UQutXzM1mgGe",
        "colab_type": "code",
        "colab": {}
      },
      "source": [
        "#Random Forest Classifier\n",
        "RFC= RandomForestClassifier(**grid_parm)\n",
        "RFC.fit(X_train,y_train)\n",
        "RFC_predict = RFC.predict(X_test)\n",
        "\n",
        "pred3=pd.DataFrame(RFC.predict(X_test),columns=[\"QuoteConversion_Flag\"])\n",
        "pred_3 = pd.concat([QuoteNumber, pred3],axis=(1))\n",
        "pred_3.head()\n",
        "pred3.to_csv('/gdrive/My Drive/CIS508/DecisionTreeOriginal.csv',index= None)\n"
      ],
      "execution_count": null,
      "outputs": []
    },
    {
      "cell_type": "code",
      "metadata": {
        "id": "NJ_11zXbnR6_",
        "colab_type": "code",
        "colab": {}
      },
      "source": [
        "#SMOTE\n",
        "print(\"SMOTE\\n\")\n",
        "print('Original dataset shape %s' % Counter(y_train))\n",
        "sm = SMOTE(sampling_strategy='float', ratio=\"minority\",m_neighbors=\"10\",random_state=43)\n",
        "X_rs, y_rs = sm.fit_resample(X_train, y_train)\n",
        "print('Resampled dataset shape %s' % Counter(y_rs))\n",
        "print(y_train.value_counts()/len(y_train))\n",
        "print(pd.Series(y_rs).value_counts()/len(y_rs))\n",
        "#Decision Tree SMOTE\n",
        "clf2 = DecisionTreeClassifier()\n",
        "clf2.fit(X_rs, y_rs)\n",
        "predA=pd.DataFrame(clf2.predict(X_test),columns=[\"QuoteConversion_Flag\"])\n",
        "predA = pd.concat([QuoteNumber, predA],axis=(1))\n",
        "predA.head()\n",
        "predA.to_csv('/gdrive/My Drive/CIS508/SMOTE-DecisionTree.csv',index= None)"
      ],
      "execution_count": null,
      "outputs": []
    },
    {
      "cell_type": "code",
      "metadata": {
        "id": "oD9JwKOpnUy_",
        "colab_type": "code",
        "colab": {}
      },
      "source": [
        "#KNN\n",
        "\n",
        "from sklearn import datasets\n",
        "from sklearn.model_selection import train_test_split\n",
        "from sklearn.neighbors import KNeighborsClassifier\n",
        "\n",
        "knn=KNeighborsClassifier(5)\n",
        "knn.fit(X_rs,y_rs)\n",
        "knn_predict = knn.predict(X_test)\n",
        "\n",
        "pred4=pd.DataFrame(knn.predict(X_test),columns=[\"QuoteConversion_Flag\"])\n",
        "predb = pd.concat([QuoteNumber, pred4],axis=(1))\n",
        "predb.head()\n",
        "predb.to_csv('/gdrive/My Drive/CIS508/KNN.csv',index= None)\n"
      ],
      "execution_count": null,
      "outputs": []
    },
    {
      "cell_type": "code",
      "metadata": {
        "id": "TrIoTTTznY3A",
        "colab_type": "code",
        "colab": {}
      },
      "source": [
        "#SVC\n",
        "\n",
        "from sklearn.svm import LinearSVC\n",
        "SVC = LinearSVC()\n",
        "SVC.fit(X_rs,y_rs)\n",
        "SVC_predict = SVC.predict(X_test)\n",
        "\n",
        "pred6=pd.DataFrame(SVC.predict(X_test),columns=[\"QuoteConversion_Flag\"])\n",
        "predd = pd.concat([QuoteNumber, pred6],axis=(1))\n",
        "predd.head()\n",
        "predd.to_csv('/gdrive/My Drive/CIS508/SVC.csv',index= None)"
      ],
      "execution_count": null,
      "outputs": []
    },
    {
      "cell_type": "code",
      "metadata": {
        "id": "lXNmNeQenbJQ",
        "colab_type": "code",
        "colab": {}
      },
      "source": [
        "#SMOTE- Random Forest\n",
        "\n",
        "RFC1= RandomForestClassifier(**grid_parm)\n",
        "RFC1.fit(X_rs,y_rs)\n",
        "RFC1_predict = RFC1.predict(X_test)\n",
        "\n",
        "pred5=pd.DataFrame(RFC.predict(X_test),columns=[\"QuoteConversion_Flag\"])\n",
        "predc = pd.concat([QuoteNumber, pred5],axis=(1))\n",
        "predc.head()\n",
        "predc.to_csv('/gdrive/My Drive/CIS508/SMOTE-RandomForest.csv',index= None)\n"
      ],
      "execution_count": null,
      "outputs": []
    },
    {
      "cell_type": "code",
      "metadata": {
        "id": "TrN6NY4Dnc8o",
        "colab_type": "code",
        "colab": {}
      },
      "source": [
        "#Stacking\n",
        "\n",
        "print(\"Ensemble Methods Predictions using RandomForest, Decision Tree Classifier, Linear SVC\\n\")\n",
        "\n",
        "models = [ RandomForestClassifier(**grid_parm), DecisionTreeClassifier(), LinearSVC()]\n",
        "      \n",
        "S_Train, S_Test = stacking(models,                   \n",
        "                           X_rs, y_rs, X_test,   \n",
        "                           regression=False, \n",
        "            \n",
        "                           metric=accuracy_score, \n",
        "    \n",
        "                           n_folds=4, \n",
        "            \n",
        "                           random_state=0,    \n",
        "         \n",
        "                           verbose=2)\n",
        "model2= GradientBoostingClassifier()\n",
        "parameters={'min_samples_split' : range(20,100,20),'max_depth': range(1,10,5),\"min_samples_leaf\":range(20,100,20)}\n",
        "model2_random = RandomizedSearchCV(model,parameters,n_iter=5)\n",
        "model2_random.fit(S_Train, y_rs)\n",
        "grid_parm=model_random.best_params_\n",
        "print(grid_parm)\n",
        "mode13 = GradientBoostingClassifier(**grid_parm)\n",
        "model3.fit(S_Train, y_rs)\n",
        "model3_predict = model3.predict(S_Test)\n",
        "pred8=pd.DataFrame(model1.predict(S_Test),columns=[\"QuoteConversion_Flag\"])\n",
        "predf = pd.concat([QuoteNumber, pred8],axis=(1))\n",
        "predfhead()\n",
        "predf.to_csv('/gdrive/My Drive/CIS508/Stacked.csv',index= None)"
      ],
      "execution_count": null,
      "outputs": []
    }
  ]
}